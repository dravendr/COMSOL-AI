{
 "cells": [
  {
   "cell_type": "code",
   "execution_count": 1,
   "metadata": {},
   "outputs": [
    {
     "name": "stdout",
     "output_type": "stream",
     "text": [
      "Using matplotlib backend: Qt5Agg\n"
     ]
    }
   ],
   "source": [
    "###########import packages##########\n",
    "import pandas as pd\n",
    "import matplotlib.pyplot as plt\n",
    "import numpy as np\n",
    "import xgboost as xgb\n",
    "import lightgbm\n",
    "import catboost\n",
    "from sklearn.model_selection import GridSearchCV\n",
    "from xgboost import plot_importance\n",
    "from xgboost import XGBClassifier\n",
    "from sklearn.model_selection import train_test_split\n",
    "from sklearn.metrics import accuracy_score\n",
    "from sklearn.metrics import classification_report\n",
    "from sklearn import ensemble\n",
    "from sklearn.tree import ExtraTreeRegressor\n",
    "from sklearn import svm\n",
    "from sklearn import neighbors\n",
    "from sklearn import tree\n",
    "import shap\n",
    "%matplotlib\n",
    "from pdpbox import pdp\n",
    "def plot_pdp(model, df, feature, cluster_flag=False, nb_clusters=None, lines_flag=False):\n",
    "    \n",
    "    # Create the data that we will plot\n",
    "    pdp_goals = pdp.pdp_isolate(model=model, dataset=df, model_features=df.columns.tolist(), feature=feature)\n",
    "\n",
    "    # plot it\n",
    "    pdp.pdp_plot(pdp_goals, feature, cluster=cluster_flag, n_cluster_centers=nb_clusters, plot_lines=lines_flag)\n",
    "    plt.show()\n",
    "###########wrapping root mean square error for later calls##########\n",
    "def rmse(predictions, targets):\n",
    "    return np.sqrt(((predictions - targets) ** 2).mean())\n",
    "###########loading data##########\n",
    "fdata=pd.read_csv('database.csv',encoding=\"gbk\")\n",
    "raw_data=fdata.loc[:,[                     \n",
    "                      'A_c',#0\n",
    "                      'A_a',#1\n",
    "                      'L_cl',#2\n",
    "                      'i0',#3\n",
    "                      'L-PEM',#4\n",
    "                      'L_GDL',#5\n",
    "                      'epsl_cl',#6\n",
    "                      'epsp_cl',#7\n",
    "                      'T_cc',#8\n",
    "                      'RH_cc',#9\n",
    "                      'pressure',#10\n",
    "                      'Volt0.7'#\n",
    "                        ]]\n",
    "###########train test splitting##########\n",
    "standardized_data = (raw_data-np.mean(raw_data,axis=0))/np.std(raw_data,axis=0)\n",
    "raw_input=raw_data.iloc[:,0:11]\n",
    "raw_output=raw_data.iloc[:,11]\n",
    "###########fix random seed for reproducability##########\n",
    "seed=1\n",
    "X_train, X_test, y_train, y_test = train_test_split(raw_input, raw_output, test_size=.15,random_state=seed)\n",
    "y_test_values=y_test.values.astype(np.float32)\n",
    "\n",
    "########################################################\n",
    "########################################################\n",
    "###########################PDP##########################\n",
    "########################################################\n",
    "########################################################\n",
    "def shap_plot(model,param):\n",
    "    print('start')\n",
    "    grid = GridSearchCV(model,param_grid=param,cv=5)\n",
    "    grid.fit(X_train,y_train)\n",
    "    best_model=grid.best_estimator_\n",
    "    plot_pdp(best_model, raw_input, 'T_cc')\n",
    "    plt.savefig('T_cc.png')\n",
    "    plot_pdp(best_model, raw_input, 'i0')\n",
    "    plt.savefig('i0.png')\n",
    "    plot_pdp(best_model, raw_input, 'epsl_cl')\n",
    "    plt.savefig('epsl_cl.png')\n",
    "    plot_pdp(best_model, raw_input, 'L_cl')\n",
    "    plt.savefig('L_cl.png')\n",
    "    plot_pdp(best_model, raw_input, 'RH_cc')\n",
    "    plt.savefig('RH_cc.png')\n",
    "    plot_pdp(best_model, raw_input, 'pressure')\n",
    "    plt.savefig('pressure.png')\n",
    "    plot_pdp(best_model, raw_input, 'A_c')\n",
    "    plt.savefig('A_c.png')\n",
    "    plot_pdp(best_model, raw_input, 'L-PEM')\n",
    "    plt.savefig('L-PEM.png')\n",
    "    plot_pdp(best_model, raw_input, 'L_GDL')\n",
    "    plt.savefig('L_GDL.png')\n",
    "    plot_pdp(best_model, raw_input, 'A_a')\n",
    "    plt.savefig('A_a.png')\n",
    "    plot_pdp(best_model, raw_input, 'epsp_cl')\n",
    "    plt.savefig('epsp_cl.png')\n",
    "    print('finished')\n",
    "    "
   ]
  },
  {
   "cell_type": "code",
   "execution_count": 4,
   "metadata": {},
   "outputs": [
    {
     "name": "stdout",
     "output_type": "stream",
     "text": [
      "start\n",
      "finished\n"
     ]
    }
   ],
   "source": [
    "model_XGBRegressor = xgb.XGBRegressor(random_state=seed)\n",
    "param_xgb={'learning_rate': [0.2], 'reg_alpha': [0.01], 'reg_lambda': [0], 'subsample': [0.8]}\n",
    "shap_plot(model_XGBRegressor,param_xgb)"
   ]
  },
  {
   "cell_type": "code",
   "execution_count": 5,
   "metadata": {},
   "outputs": [
    {
     "name": "stdout",
     "output_type": "stream",
     "text": [
      "start\n",
      "finished\n"
     ]
    }
   ],
   "source": [
    "model_lgbmRegressor = lightgbm.LGBMRegressor(random_state=seed)\n",
    "param_lgbm={'learning_rate': [0.2], 'reg_alpha': [0], 'reg_lambda': [0.01], 'subsample': [0.5]}\n",
    "shap_plot(model_lgbmRegressor,param_lgbm)"
   ]
  },
  {
   "cell_type": "code",
   "execution_count": 6,
   "metadata": {},
   "outputs": [
    {
     "name": "stdout",
     "output_type": "stream",
     "text": [
      "start\n",
      "finished\n"
     ]
    }
   ],
   "source": [
    "model_GradientBoostingRegressor = ensemble.GradientBoostingRegressor(random_state=seed)\n",
    "param_GB={'loss': ['ls'], 'max_features': ['auto']}\n",
    "shap_plot(model_GradientBoostingRegressor,param_GB)"
   ]
  },
  {
   "cell_type": "code",
   "execution_count": 7,
   "metadata": {},
   "outputs": [
    {
     "name": "stdout",
     "output_type": "stream",
     "text": [
      "start\n",
      "finished\n"
     ]
    }
   ],
   "source": [
    "model_RandomForestRegressor = ensemble.RandomForestRegressor(random_state=seed)\n",
    "param_RF = {\n",
    "    'max_features':['auto']}\n",
    "shap_plot(model_RandomForestRegressor,param_RF)"
   ]
  },
  {
   "cell_type": "code",
   "execution_count": 8,
   "metadata": {},
   "outputs": [
    {
     "name": "stdout",
     "output_type": "stream",
     "text": [
      "start\n",
      "finished\n"
     ]
    }
   ],
   "source": [
    "model_ExtraTreeRegressor = ExtraTreeRegressor(random_state=seed)\n",
    "param_ET = {'criterion': ['friedman_mse'], 'splitter': ['best']}\n",
    "shap_plot(model_ExtraTreeRegressor,param_ET)"
   ]
  },
  {
   "cell_type": "code",
   "execution_count": 9,
   "metadata": {},
   "outputs": [
    {
     "name": "stdout",
     "output_type": "stream",
     "text": [
      "start\n",
      "finished\n"
     ]
    }
   ],
   "source": [
    "model_DecisionTreeRegressor = tree.DecisionTreeRegressor(random_state=seed)\n",
    "param_DT = {\n",
    "         'criterion': ['friedman_mse'], 'max_features': ['auto'], 'splitter': ['best']\n",
    "}\n",
    "shap_plot(model_DecisionTreeRegressor,param_DT)"
   ]
  },
  {
   "cell_type": "code",
   "execution_count": 3,
   "metadata": {},
   "outputs": [
    {
     "name": "stdout",
     "output_type": "stream",
     "text": [
      "start\n",
      "finished\n"
     ]
    }
   ],
   "source": [
    "model_CatboostRegressor=catboost.CatBoostRegressor(random_state=1,verbose=0)\n",
    "param_cat = {'iterations':400} \n",
    "shap_plot(model_CatboostRegressor,param_cat)"
   ]
  },
  {
   "cell_type": "code",
   "execution_count": null,
   "metadata": {},
   "outputs": [],
   "source": []
  }
 ],
 "metadata": {
  "kernelspec": {
   "display_name": "Python 3",
   "language": "python",
   "name": "python3"
  },
  "language_info": {
   "codemirror_mode": {
    "name": "ipython",
    "version": 3
   },
   "file_extension": ".py",
   "mimetype": "text/x-python",
   "name": "python",
   "nbconvert_exporter": "python",
   "pygments_lexer": "ipython3",
   "version": "3.7.6"
  }
 },
 "nbformat": 4,
 "nbformat_minor": 4
}
